{
 "cells": [
  {
   "cell_type": "markdown",
   "metadata": {},
   "source": [
    "# U.S. Medical Insurance Costs\n",
    "This notebook is an analysis of a insurance.csv containing medical insurance cost for people in the United States. Through out this notebook we will be comparing the differences between decades of smokers and how that comparison holds against non-smokers."
   ]
  },
  {
   "cell_type": "markdown",
   "metadata": {},
   "source": [
    "## Goals\n",
    "### To Determine:\n",
    "\n",
    "What is the average cost of medical insurance for each decade of smokers and the difference between non-smokers?\n",
    "\n",
    "What is the average gender for each decade of smokers, and the difference between non-smokers?\n",
    "\n",
    "What is the average BMI for each decade of smokers, and the difference between non-smokers?\n",
    "\n",
    "What is the average amount of children for each decade of smokers, and the difference between non-smokers?\n",
    "\n",
    "What is the average region for each decade of smokers, and the difference between non-smokers?\n",
    "\n",
    "### Decades Being Examined: (20-29),(30-39),(40-49),(50-59)"
   ]
  },
  {
   "cell_type": "markdown",
   "metadata": {},
   "source": [
    "First we will start by importing the needed libraries"
   ]
  },
  {
   "cell_type": "code",
   "execution_count": 9,
   "metadata": {},
   "outputs": [],
   "source": [
    "import csv"
   ]
  },
  {
   "cell_type": "markdown",
   "metadata": {},
   "source": [
    "Next, we will create a helper method to help us create list of records within a certain age range and smoker status."
   ]
  },
  {
   "cell_type": "code",
   "execution_count": 10,
   "metadata": {},
   "outputs": [],
   "source": [
    "def age_range_maker(age_start, age_end, smoker_status):\n",
    "    with open('insurance.csv') as insurance_csv:\n",
    "        insurance_data = csv.DictReader(insurance_csv)\n",
    "        age_range = []\n",
    "        for record in insurance_data:\n",
    "            if int(record['age']) >= age_start and int(record['age']) <= age_end and record['smoker'] == smoker_status:\n",
    "                age_range.append(record)\n",
    "        return age_range"
   ]
  },
  {
   "cell_type": "markdown",
   "metadata": {},
   "source": [
    "We  will then create a list for each decade of smokers and non-smokers we plan on examining."
   ]
  },
  {
   "cell_type": "code",
   "execution_count": 12,
   "metadata": {
    "scrolled": true
   },
   "outputs": [],
   "source": [
    "twenties = age_range_maker(20,29,'no')\n",
    "twenties_smokers = age_range_maker(20,29,'yes')\n",
    "thirties = age_range_maker(30,39,'no')\n",
    "thirties_smokers = age_range_maker(30,39,'yes')\n",
    "forties = age_range_maker(40,49,'no')\n",
    "forties_smokers = age_range_maker(40,49,'yes')\n",
    "fifties = age_range_maker(50,59,'no')\n",
    "fifties_smokers = age_range_maker(50,59,'yes')"
   ]
  },
  {
   "cell_type": "code",
   "execution_count": null,
   "metadata": {},
   "outputs": [],
   "source": []
  }
 ],
 "metadata": {
  "kernelspec": {
   "display_name": "Python 3",
   "language": "python",
   "name": "python3"
  },
  "language_info": {
   "codemirror_mode": {
    "name": "ipython",
    "version": 3
   },
   "file_extension": ".py",
   "mimetype": "text/x-python",
   "name": "python",
   "nbconvert_exporter": "python",
   "pygments_lexer": "ipython3",
   "version": "3.8.5"
  }
 },
 "nbformat": 4,
 "nbformat_minor": 4
}
