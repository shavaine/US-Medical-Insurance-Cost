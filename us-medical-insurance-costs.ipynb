{
 "cells": [
  {
   "cell_type": "markdown",
   "metadata": {},
   "source": [
    "# U.S. Medical Insurance Costs\n",
    "This notebook is an analysis of a insurance.csv containing medical insurance cost for people in the United States. Through out this notebook we will be comparing the differences between decades of smokers and how that comparison holds against non-smokers."
   ]
  },
  {
   "cell_type": "markdown",
   "metadata": {},
   "source": [
    "## Goals\n",
    "### To Determine:\n",
    "\n",
    "What is the average cost of medical insurance for each decade of smokers and the difference between non-smokers?\n",
    "\n",
    "What is the average gender for each decade of smokers, and the difference between non-smokers?\n",
    "\n",
    "What is the average BMI for each decade of smokers, and the difference between non-smokers?\n",
    "\n",
    "What is the average amount of children for each decade of smokers, and the difference between non-smokers?\n",
    "\n",
    "What is the average region for each decade of smokers, and the difference between non-smokers?\n",
    "\n",
    "### Decades Being Examined: (20-29),(30-39),(40-49),(50-59)"
   ]
  },
  {
   "cell_type": "markdown",
   "metadata": {},
   "source": [
    "First we will start by importing the needed libraries"
   ]
  },
  {
   "cell_type": "code",
   "execution_count": 9,
   "metadata": {},
   "outputs": [],
   "source": [
    "import csv"
   ]
  },
  {
   "cell_type": "markdown",
   "metadata": {},
   "source": [
    "Next, we will create a helper method to help us create list of records within a certain age range and smoker status."
   ]
  },
  {
   "cell_type": "code",
   "execution_count": 10,
   "metadata": {},
   "outputs": [],
   "source": [
    "def age_range_maker(age_start, age_end, smoker_status):\n",
    "    with open('insurance.csv') as insurance_csv:\n",
    "        insurance_data = csv.DictReader(insurance_csv)\n",
    "        age_range = []\n",
    "        for record in insurance_data:\n",
    "            if int(record['age']) >= age_start and int(record['age']) <= age_end and record['smoker'] == smoker_status:\n",
    "                age_range.append(record)\n",
    "        return age_range"
   ]
  },
  {
   "cell_type": "markdown",
   "metadata": {},
   "source": [
    "We  will then create a list of records for each decade of smokers and non-smokers we plan on examining."
   ]
  },
  {
   "cell_type": "code",
   "execution_count": 12,
   "metadata": {
    "scrolled": true
   },
   "outputs": [],
   "source": [
    "twenties = age_range_maker(20,29,'no')\n",
    "twenties_smokers = age_range_maker(20,29,'yes')\n",
    "thirties = age_range_maker(30,39,'no')\n",
    "thirties_smokers = age_range_maker(30,39,'yes')\n",
    "forties = age_range_maker(40,49,'no')\n",
    "forties_smokers = age_range_maker(40,49,'yes')\n",
    "fifties = age_range_maker(50,59,'no')\n",
    "fifties_smokers = age_range_maker(50,59,'yes')"
   ]
  },
  {
   "cell_type": "markdown",
   "metadata": {},
   "source": [
    "Our next goal will be to create a pair of helper methods that'll be used by the class methods to determine a type of average we want.\n",
    "\n",
    "These are the types of averages we will using for each category:\n",
    "\n",
    "* Average Charge -> Median\n",
    "* Average Gender -> Mode\n",
    "* Average BMI -> Median\n",
    "* Average Amount of Children -> Median\n",
    "* Average Region -> Mode"
   ]
  },
  {
   "cell_type": "code",
   "execution_count": 15,
   "metadata": {},
   "outputs": [],
   "source": [
    "def average_by_mean(list_values):\n",
    "    total_value = 0.0\n",
    "    for value in list_values:\n",
    "        total_value += float(value)\n",
    "    final_value = total_value / len(list_values)\n",
    "    return round(final_value, 2)"
   ]
  },
  {
   "cell_type": "code",
   "execution_count": 14,
   "metadata": {},
   "outputs": [],
   "source": [
    "def average_by_mode(*args):\n",
    "    if len(args) == 2:\n",
    "        length_arg_one = len(args[0])\n",
    "        length_arg_two = len(args[1])\n",
    "        if length_arg_one > length_arg_two:\n",
    "            return args[0][0]['sex']\n",
    "        else:\n",
    "            return args[1][0]['sex']\n",
    "    if len(args) == 4:\n",
    "        length_arg_one = len(args[0])\n",
    "        length_arg_two = len(args[1])\n",
    "        length_arg_three = len(args[2])\n",
    "        length_arg_four = len(args[3])\n",
    "        if length_arg_one > length_arg_two and length_arg_one > length_arg_three  and length_arg_one > length_arg_four:\n",
    "            return args[0][0]['region']\n",
    "        elif length_arg_two > length_arg_one and length_arg_two > length_arg_three  and length_arg_two > length_arg_four:\n",
    "            return args[1][0]['region']\n",
    "        elif length_arg_three > length_arg_one and length_arg_three > length_arg_two  and length_arg_three > length_arg_four:\n",
    "            return args[2][0]['region']\n",
    "        else:\n",
    "            return args[3][0]['region']"
   ]
  },
  {
   "cell_type": "markdown",
   "metadata": {},
   "source": [
    "Next, we will create a class which will allow us to create decade_analyzer objects, based on the time period passed during creation. These objects will contain methods to run analysis on the data of the object.\n",
    "\n",
    "The analysis methods will be:\n",
    "\n",
    "* `average_charge()`\n",
    "* `average_gender()`\n",
    "* `average_BMI()`\n",
    "* `average_children()`\n",
    "* `average_region()`"
   ]
  },
  {
   "cell_type": "code",
   "execution_count": 16,
   "metadata": {},
   "outputs": [],
   "source": [
    "class decade_analyzer:\n",
    "    def __init__(self, records):\n",
    "        self.records = records\n",
    "\n",
    "    def average_charge(self):\n",
    "        list_values = []\n",
    "        for record in self.records:\n",
    "            list_values.append(record['charges'])\n",
    "        a_charge = average_by_mean(list_values)\n",
    "        print('The average charge is: ' + str(a_charge))\n",
    "\n",
    "    def average_gender(self):\n",
    "        males_list = []\n",
    "        females_list = []\n",
    "        for record in self.records:\n",
    "            if record['sex'] == 'male':\n",
    "                males_list.append(record)\n",
    "            else:\n",
    "                females_list.append(record)\n",
    "        avg_gender = average_by_mode(males_list, females_list)\n",
    "        print('The average gender is: ' + avg_gender)\n",
    "\n",
    "    def average_BMI(self):\n",
    "        list_values = []\n",
    "        for record in self.records:\n",
    "            list_values.append(record['bmi'])\n",
    "        a_bmi = average_by_mean(list_values)\n",
    "        print('The average BMI is: ' + str(a_bmi))\n",
    "\n",
    "    def average_children(self):\n",
    "        list_values = []\n",
    "        for record in self.records:\n",
    "            list_values.append(record['children'])\n",
    "        a_children = round(average_by_mean(list_values))\n",
    "        print('The average amount of children is: ' + str(a_children))\n",
    "\n",
    "    def average_region(self):\n",
    "        north_west = []\n",
    "        north_east = []\n",
    "        south_west = []\n",
    "        south_east = []\n",
    "        for record in self.records:\n",
    "            if record['region'] == 'northwest':\n",
    "                north_west.append(record)\n",
    "            elif record['region'] == 'northeast':\n",
    "                north_east.append(record)\n",
    "            elif record['region'] == 'southwest':\n",
    "                south_west.append(record)\n",
    "            else:\n",
    "                south_east.append(record)\n",
    "        avg_region = average_by_mode(north_west, north_east, south_west, south_east)\n",
    "        print('The average region is: ' + avg_region)"
   ]
  },
  {
   "cell_type": "markdown",
   "metadata": {},
   "source": [
    "We will than create an object of analysis for each decade of smoker and non-smoker"
   ]
  },
  {
   "cell_type": "code",
   "execution_count": 18,
   "metadata": {},
   "outputs": [],
   "source": [
    "twenties_analyzed = decade_analyzer(twenties)\n",
    "twenties_smokers_analyzed = decade_analyzer(twenties_smokers)\n",
    "\n",
    "thirties_analyzed = decade_analyzer(thirties)\n",
    "thirties_smokers_analyzed = decade_analyzer(thirties_smokers)\n",
    "\n",
    "forties_analyzed = decade_analyzer(forties)\n",
    "forties_smokers_analyzed = decade_analyzer(forties_smokers)\n",
    "\n",
    "fifties_analyzed = decade_analyzer(fifties)\n",
    "fifties_smokers_analyzed = decade_analyzer(fifties_smokers)"
   ]
  },
  {
   "cell_type": "code",
   "execution_count": null,
   "metadata": {},
   "outputs": [],
   "source": []
  }
 ],
 "metadata": {
  "kernelspec": {
   "display_name": "Python 3",
   "language": "python",
   "name": "python3"
  },
  "language_info": {
   "codemirror_mode": {
    "name": "ipython",
    "version": 3
   },
   "file_extension": ".py",
   "mimetype": "text/x-python",
   "name": "python",
   "nbconvert_exporter": "python",
   "pygments_lexer": "ipython3",
   "version": "3.8.5"
  }
 },
 "nbformat": 4,
 "nbformat_minor": 4
}
