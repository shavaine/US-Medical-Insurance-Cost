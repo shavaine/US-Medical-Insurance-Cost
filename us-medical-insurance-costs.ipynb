{
 "cells": [
  {
   "cell_type": "markdown",
   "metadata": {},
   "source": [
    "# U.S. Medical Insurance Costs\n",
    "This notebook is an analysis of a insurance.csv containing medical insurance cost for people in the United States. Through out this notebook we will be comparing the differences between decades of smokers and how that comparison holds against non-smokers."
   ]
  },
  {
   "cell_type": "markdown",
   "metadata": {},
   "source": [
    "## Goals\n",
    "### To Determine:\n",
    "\n",
    "What is the average cost of medical insurance for each decade of smokers and the difference between non-smokers?\n",
    "\n",
    "What is the average gender for each decade of smokers, and the difference between non-smokers?\n",
    "\n",
    "What is the average BMI for each decade of smokers, and the difference between non-smokers?\n",
    "\n",
    "What is the average amount of children for each decade of smokers, and the difference between non-smokers?\n",
    "\n",
    "What is the average region for each decade of smokers, and the difference between non-smokers?\n",
    "\n",
    "### Decades Being Examined: (20-29),(30-39),(40-49),(50-59)"
   ]
  },
  {
   "cell_type": "markdown",
   "metadata": {},
   "source": [
    "First we will start by importing the needed libraries"
   ]
  },
  {
   "cell_type": "code",
   "execution_count": 1,
   "metadata": {},
   "outputs": [],
   "source": [
    "import csv"
   ]
  },
  {
   "cell_type": "markdown",
   "metadata": {},
   "source": [
    "Next, we will create a helper method to help us create list of records within a certain age range and smoker status."
   ]
  },
  {
   "cell_type": "code",
   "execution_count": 2,
   "metadata": {},
   "outputs": [],
   "source": [
    "def age_range_maker(age_start, age_end, smoker_status):\n",
    "    with open('insurance.csv') as insurance_csv:\n",
    "        insurance_data = csv.DictReader(insurance_csv)\n",
    "        age_range = []\n",
    "        for record in insurance_data:\n",
    "            if int(record['age']) >= age_start and int(record['age']) <= age_end and record['smoker'] == smoker_status:\n",
    "                age_range.append(record)\n",
    "        return age_range"
   ]
  },
  {
   "cell_type": "markdown",
   "metadata": {},
   "source": [
    "We  will then create a list of records for each decade of smokers and non-smokers we plan on examining."
   ]
  },
  {
   "cell_type": "code",
   "execution_count": 3,
   "metadata": {
    "scrolled": true
   },
   "outputs": [],
   "source": [
    "twenties_list = age_range_maker(20,29,'no')\n",
    "twenties_smokers_list = age_range_maker(20,29,'yes')\n",
    "thirties_list = age_range_maker(30,39,'no')\n",
    "thirties_smokers_list = age_range_maker(30,39,'yes')\n",
    "forties_list = age_range_maker(40,49,'no')\n",
    "forties_smokers_list = age_range_maker(40,49,'yes')\n",
    "fifties_list = age_range_maker(50,59,'no')\n",
    "fifties_smokers_list = age_range_maker(50,59,'yes')"
   ]
  },
  {
   "cell_type": "markdown",
   "metadata": {},
   "source": [
    "Our next goal will be to create a pair of helper methods that'll be used by the class methods to determine a type of average we want.\n",
    "\n",
    "These are the types of averages we will using for each category:\n",
    "\n",
    "* Average Charge -> Median\n",
    "* Average Gender -> Mode\n",
    "* Average BMI -> Median\n",
    "* Average Amount of Children -> Median\n",
    "* Average Region -> Mode"
   ]
  },
  {
   "cell_type": "code",
   "execution_count": 4,
   "metadata": {},
   "outputs": [],
   "source": [
    "def average_by_mean(list_values):\n",
    "    total_value = 0.0\n",
    "    for value in list_values:\n",
    "        total_value += float(value)\n",
    "    final_value = total_value / len(list_values)\n",
    "    return round(final_value, 2)"
   ]
  },
  {
   "cell_type": "code",
   "execution_count": 5,
   "metadata": {},
   "outputs": [],
   "source": [
    "def average_by_mode(*args):\n",
    "    if len(args) == 2:\n",
    "        length_arg_one = len(args[0])\n",
    "        length_arg_two = len(args[1])\n",
    "        if length_arg_one > length_arg_two:\n",
    "            return args[0][0]['sex']\n",
    "        else:\n",
    "            return args[1][0]['sex']\n",
    "    if len(args) == 4:\n",
    "        length_arg_one = len(args[0])\n",
    "        length_arg_two = len(args[1])\n",
    "        length_arg_three = len(args[2])\n",
    "        length_arg_four = len(args[3])\n",
    "        if length_arg_one > length_arg_two and length_arg_one > length_arg_three  and length_arg_one > length_arg_four:\n",
    "            return args[0][0]['region']\n",
    "        elif length_arg_two > length_arg_one and length_arg_two > length_arg_three  and length_arg_two > length_arg_four:\n",
    "            return args[1][0]['region']\n",
    "        elif length_arg_three > length_arg_one and length_arg_three > length_arg_two  and length_arg_three > length_arg_four:\n",
    "            return args[2][0]['region']\n",
    "        else:\n",
    "            return args[3][0]['region']"
   ]
  },
  {
   "cell_type": "markdown",
   "metadata": {},
   "source": [
    "Next, we will create a class which will allow us to create decade_analyzer objects, based on the time period passed during creation. These objects will contain methods to run analysis on the data of the object.\n",
    "\n",
    "The analysis methods will be:\n",
    "\n",
    "* `average_charge()`\n",
    "* `average_gender()`\n",
    "* `average_BMI()`\n",
    "* `average_children()`\n",
    "* `average_region()`"
   ]
  },
  {
   "cell_type": "code",
   "execution_count": 6,
   "metadata": {},
   "outputs": [],
   "source": [
    "class decade_analyzer:\n",
    "    def __init__(self, records):\n",
    "        self.records = records\n",
    "\n",
    "    def average_charge(self, definition):\n",
    "        list_values = []\n",
    "        for record in self.records:\n",
    "            list_values.append(record['charges'])\n",
    "        avg_charge = average_by_mean(list_values)\n",
    "        print('The average charge for {group_definition} is: ${avg}'.format(group_definition=definition, avg=avg_charge))\n",
    "\n",
    "    def average_gender(self, definition):\n",
    "        males_list = []\n",
    "        females_list = []\n",
    "        for record in self.records:\n",
    "            if record['sex'] == 'male':\n",
    "                males_list.append(record)\n",
    "            else:\n",
    "                females_list.append(record)\n",
    "        avg_gender = average_by_mode(males_list, females_list)\n",
    "        print('The average gender for {group_definition} is: {avg}'.format(group_definition=definition, avg=avg_gender))\n",
    "\n",
    "    def average_BMI(self, definition):\n",
    "        list_values = []\n",
    "        for record in self.records:\n",
    "            list_values.append(record['bmi'])\n",
    "        avg_bmi = average_by_mean(list_values)\n",
    "        print('The average BMI for {group_definition} is: {avg}'.format(group_definition=definition, avg=avg_bmi))\n",
    "\n",
    "    def average_children(self, definition):\n",
    "        list_values = []\n",
    "        for record in self.records:\n",
    "            list_values.append(record['children'])\n",
    "        avg_children = round(average_by_mean(list_values))\n",
    "        print('The average amount of children for {group_definition} is: {avg}'.format(group_definition=definition, avg=avg_children))\n",
    "\n",
    "    def average_region(self, definition):\n",
    "        north_west = []\n",
    "        north_east = []\n",
    "        south_west = []\n",
    "        south_east = []\n",
    "        for record in self.records:\n",
    "            if record['region'] == 'northwest':\n",
    "                north_west.append(record)\n",
    "            elif record['region'] == 'northeast':\n",
    "                north_east.append(record)\n",
    "            elif record['region'] == 'southwest':\n",
    "                south_west.append(record)\n",
    "            else:\n",
    "                south_east.append(record)\n",
    "        avg_region = average_by_mode(north_west, north_east, south_west, south_east)\n",
    "        print('The average region for {group_definition} is: {avg}'.format(group_definition=definition, avg=avg_region))"
   ]
  },
  {
   "cell_type": "markdown",
   "metadata": {},
   "source": [
    "We will than create an object of analysis for each decade of smoker and non-smoker"
   ]
  },
  {
   "cell_type": "code",
   "execution_count": 7,
   "metadata": {},
   "outputs": [],
   "source": [
    "twenties = decade_analyzer(twenties_list)\n",
    "twenties_smokers = decade_analyzer(twenties_smokers_list)\n",
    "\n",
    "thirties = decade_analyzer(thirties_list)\n",
    "thirties_smokers = decade_analyzer(thirties_smokers_list)\n",
    "\n",
    "forties = decade_analyzer(forties_list)\n",
    "forties_smokers = decade_analyzer(forties_smokers_list)\n",
    "\n",
    "fifties = decade_analyzer(fifties_list)\n",
    "fifties_smokers = decade_analyzer(fifties_smokers_list)"
   ]
  },
  {
   "cell_type": "markdown",
   "metadata": {},
   "source": [
    "Now that all the methods and data are in place, we now analyze each decade independently with smokers vs non-smokers."
   ]
  },
  {
   "cell_type": "markdown",
   "metadata": {},
   "source": [
    "### Twenties"
   ]
  },
  {
   "cell_type": "code",
   "execution_count": 8,
   "metadata": {},
   "outputs": [
    {
     "name": "stdout",
     "output_type": "stream",
     "text": [
      "The average charge for twenties non-smokers is: $4921.63\n",
      "The average charge for twenties smokers is: $28122.22\n"
     ]
    }
   ],
   "source": [
    "twenties.average_charge('twenties non-smokers')\n",
    "twenties_smokers.average_charge('twenties smokers')"
   ]
  },
  {
   "cell_type": "code",
   "execution_count": 9,
   "metadata": {},
   "outputs": [
    {
     "name": "stdout",
     "output_type": "stream",
     "text": [
      "The average gender for twenties non-smokers is: male\n",
      "The average gender for twenties smokers is: male\n"
     ]
    }
   ],
   "source": [
    "twenties.average_gender('twenties non-smokers')\n",
    "twenties_smokers.average_gender('twenties smokers')"
   ]
  },
  {
   "cell_type": "code",
   "execution_count": 10,
   "metadata": {},
   "outputs": [
    {
     "name": "stdout",
     "output_type": "stream",
     "text": [
      "The average BMI for twenties non-smokers is: 29.64\n",
      "The average BMI for twenties smokers is: 30.37\n"
     ]
    }
   ],
   "source": [
    "twenties.average_BMI('twenties non-smokers')\n",
    "twenties_smokers.average_BMI('twenties smokers')"
   ]
  },
  {
   "cell_type": "code",
   "execution_count": 11,
   "metadata": {},
   "outputs": [
    {
     "name": "stdout",
     "output_type": "stream",
     "text": [
      "The average amount of children for twenties non-smokers is: 1\n",
      "The average amount of children for twenties smokers is: 1\n"
     ]
    }
   ],
   "source": [
    "twenties.average_children('twenties non-smokers')\n",
    "twenties_smokers.average_children('twenties smokers')"
   ]
  },
  {
   "cell_type": "code",
   "execution_count": 12,
   "metadata": {},
   "outputs": [
    {
     "name": "stdout",
     "output_type": "stream",
     "text": [
      "The average region for twenties non-smokers is: northwest\n",
      "The average region for twenties smokers is: southeast\n"
     ]
    }
   ],
   "source": [
    "twenties.average_region('twenties non-smokers')\n",
    "twenties_smokers.average_region('twenties smokers')"
   ]
  },
  {
   "cell_type": "markdown",
   "metadata": {},
   "source": [
    "### Thirties"
   ]
  },
  {
   "cell_type": "code",
   "execution_count": 13,
   "metadata": {},
   "outputs": [
    {
     "name": "stdout",
     "output_type": "stream",
     "text": [
      "The average charge for thirties non-smokers is: $6337.36\n",
      "The average charge for thirties non-smokers is: $30271.25\n"
     ]
    }
   ],
   "source": [
    "thirties.average_charge('thirties non-smokers')\n",
    "thirties_smokers.average_charge('thirties non-smokers')"
   ]
  },
  {
   "cell_type": "code",
   "execution_count": 14,
   "metadata": {},
   "outputs": [
    {
     "name": "stdout",
     "output_type": "stream",
     "text": [
      "The average gender for thirties non-smokers is: female\n",
      "The average gender for thirties smokers is: male\n"
     ]
    }
   ],
   "source": [
    "thirties.average_gender('thirties non-smokers')\n",
    "thirties_smokers.average_gender('thirties smokers')"
   ]
  },
  {
   "cell_type": "code",
   "execution_count": 15,
   "metadata": {},
   "outputs": [
    {
     "name": "stdout",
     "output_type": "stream",
     "text": [
      "The average BMI for thirties non-smokers is: 30.42\n",
      "The average BMI for thirties smokers is: 30.54\n"
     ]
    }
   ],
   "source": [
    "thirties.average_BMI('thirties non-smokers')\n",
    "thirties_smokers.average_BMI('thirties smokers')"
   ]
  },
  {
   "cell_type": "code",
   "execution_count": 16,
   "metadata": {},
   "outputs": [
    {
     "name": "stdout",
     "output_type": "stream",
     "text": [
      "The average amount of children for thirties non-smokers is: 2\n",
      "The average amount of children for thirties smokers is: 2\n"
     ]
    }
   ],
   "source": [
    "thirties.average_children('thirties non-smokers')\n",
    "thirties_smokers.average_children('thirties smokers')"
   ]
  },
  {
   "cell_type": "code",
   "execution_count": 17,
   "metadata": {},
   "outputs": [
    {
     "name": "stdout",
     "output_type": "stream",
     "text": [
      "The average region for thirties non-smokers is: southeast\n",
      "The average region for thirties smokers is: southwest\n"
     ]
    }
   ],
   "source": [
    "thirties.average_region('thirties non-smokers')\n",
    "thirties_smokers.average_region('thirties smokers')"
   ]
  },
  {
   "cell_type": "markdown",
   "metadata": {},
   "source": [
    "### Forties"
   ]
  },
  {
   "cell_type": "code",
   "execution_count": 18,
   "metadata": {},
   "outputs": [
    {
     "name": "stdout",
     "output_type": "stream",
     "text": [
      "The average charge for forties non-smokers is: $9183.34\n",
      "The average charge for forties smokers is: $32654.72\n"
     ]
    }
   ],
   "source": [
    "forties.average_charge('forties non-smokers')\n",
    "forties_smokers.average_charge('forties smokers')"
   ]
  },
  {
   "cell_type": "code",
   "execution_count": 19,
   "metadata": {},
   "outputs": [
    {
     "name": "stdout",
     "output_type": "stream",
     "text": [
      "The average gender for forties non-smokers is: female\n",
      "The average gender for forties smokers is: male\n"
     ]
    }
   ],
   "source": [
    "forties.average_gender('forties non-smokers')\n",
    "forties_smokers.average_gender('forties smokers')"
   ]
  },
  {
   "cell_type": "code",
   "execution_count": 20,
   "metadata": {},
   "outputs": [
    {
     "name": "stdout",
     "output_type": "stream",
     "text": [
      "The average BMI for forties non-smokers is: 30.87\n",
      "The average BMI for forties smokers is: 30.14\n"
     ]
    }
   ],
   "source": [
    "forties.average_BMI('forties non-smokers')\n",
    "forties_smokers.average_BMI('forties smokers')"
   ]
  },
  {
   "cell_type": "code",
   "execution_count": 21,
   "metadata": {},
   "outputs": [
    {
     "name": "stdout",
     "output_type": "stream",
     "text": [
      "The average amount of children for forties non-smokers is: 1\n",
      "The average amount of children for forties smokers is: 1\n"
     ]
    }
   ],
   "source": [
    "forties.average_children('forties non-smokers')\n",
    "forties_smokers.average_children('forties smokers')"
   ]
  },
  {
   "cell_type": "code",
   "execution_count": 22,
   "metadata": {},
   "outputs": [
    {
     "name": "stdout",
     "output_type": "stream",
     "text": [
      "The average region for forties non-smokers is: southwest\n",
      "The average region for forties smokers is: southeast\n"
     ]
    }
   ],
   "source": [
    "forties.average_region('forties non-smokers')\n",
    "forties_smokers.average_region('forties smokers')"
   ]
  },
  {
   "cell_type": "markdown",
   "metadata": {},
   "source": [
    "### Fifties"
   ]
  },
  {
   "cell_type": "code",
   "execution_count": 23,
   "metadata": {},
   "outputs": [
    {
     "name": "stdout",
     "output_type": "stream",
     "text": [
      "The average charge for fifties non-smokers is: $12749.34\n",
      "The average charge for fifties smokers is: $37508.75\n"
     ]
    }
   ],
   "source": [
    "fifties.average_charge('fifties non-smokers')\n",
    "fifties_smokers.average_charge('fifties smokers')"
   ]
  },
  {
   "cell_type": "code",
   "execution_count": 24,
   "metadata": {},
   "outputs": [
    {
     "name": "stdout",
     "output_type": "stream",
     "text": [
      "The average gender for fifties non-smokers is: female\n",
      "The average gender for fifties smokers is: male\n"
     ]
    }
   ],
   "source": [
    "fifties.average_gender('fifties non-smokers')\n",
    "fifties_smokers.average_gender('fifties smokers')"
   ]
  },
  {
   "cell_type": "code",
   "execution_count": 25,
   "metadata": {},
   "outputs": [
    {
     "name": "stdout",
     "output_type": "stream",
     "text": [
      "The average BMI for fifties non-smokers is: 31.48\n",
      "The average BMI for fifties smokers is: 31.66\n"
     ]
    }
   ],
   "source": [
    "fifties.average_BMI('fifties non-smokers')\n",
    "fifties_smokers.average_BMI('fifties smokers')"
   ]
  },
  {
   "cell_type": "code",
   "execution_count": 26,
   "metadata": {},
   "outputs": [
    {
     "name": "stdout",
     "output_type": "stream",
     "text": [
      "The average amount of children for fifties non-smokers is: 1\n",
      "The average amount of children for fifties smokers is: 1\n"
     ]
    }
   ],
   "source": [
    "fifties.average_children('fifties non-smokers')\n",
    "fifties_smokers.average_children('fifties smokers')"
   ]
  },
  {
   "cell_type": "code",
   "execution_count": 27,
   "metadata": {},
   "outputs": [
    {
     "name": "stdout",
     "output_type": "stream",
     "text": [
      "The average region for fifties non-smokers is: southwest\n",
      "The average region for fifties smokers is: southeast\n"
     ]
    }
   ],
   "source": [
    "fifties.average_region('fifties non-smokers')\n",
    "fifties_smokers.average_region('fifties smokers')"
   ]
  },
  {
   "cell_type": "markdown",
   "metadata": {},
   "source": [
    "## Overall Analysis Conclusion"
   ]
  },
  {
   "cell_type": "code",
   "execution_count": null,
   "metadata": {},
   "outputs": [],
   "source": []
  }
 ],
 "metadata": {
  "kernelspec": {
   "display_name": "Python 3",
   "language": "python",
   "name": "python3"
  },
  "language_info": {
   "codemirror_mode": {
    "name": "ipython",
    "version": 3
   },
   "file_extension": ".py",
   "mimetype": "text/x-python",
   "name": "python",
   "nbconvert_exporter": "python",
   "pygments_lexer": "ipython3",
   "version": "3.8.5"
  }
 },
 "nbformat": 4,
 "nbformat_minor": 4
}
