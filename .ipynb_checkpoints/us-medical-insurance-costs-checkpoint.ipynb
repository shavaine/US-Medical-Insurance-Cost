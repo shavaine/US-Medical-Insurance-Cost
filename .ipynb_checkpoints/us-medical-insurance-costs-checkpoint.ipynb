{
 "cells": [
  {
   "cell_type": "markdown",
   "metadata": {},
   "source": [
    "# U.S. Medical Insurance Costs\n",
    "This notebook is an analysis of a insurance.csv containing medical insurance cost for people in the United States. Through out this notebook we will be comparing the differences between decades of smokers and how that comparison holds against non-smokers."
   ]
  },
  {
   "cell_type": "markdown",
   "metadata": {},
   "source": [
    "## Goals\n",
    "### To Determine:\n",
    "\n",
    "What is the average cost of medical insurance for each decade of smokers and the difference between non-smokers?\n",
    "\n",
    "What is the average gender for each decade of smokers, and the difference between non-smokers?\n",
    "\n",
    "What is the average BMI for each decade of smokers, and the difference between non-smokers?\n",
    "\n",
    "What is the average amount of children for each decade of smokers, and the difference between non-smokers?\n",
    "\n",
    "What is the average region for each decade of smokers, and the difference between non-smokers?\n",
    "\n",
    "### Decades Being Examined: (21-30),(31-40),(41-50),(51-60)"
   ]
  },
  {
   "cell_type": "markdown",
   "metadata": {},
   "source": []
  },
  {
   "cell_type": "markdown",
   "metadata": {},
   "source": [
    "First we will start by importing the needed libraries"
   ]
  },
  {
   "cell_type": "code",
   "execution_count": 1,
   "metadata": {},
   "outputs": [],
   "source": [
    "import csv"
   ]
  }
 ],
 "metadata": {
  "kernelspec": {
   "display_name": "Python 3",
   "language": "python",
   "name": "python3"
  },
  "language_info": {
   "codemirror_mode": {
    "name": "ipython",
    "version": 3
   },
   "file_extension": ".py",
   "mimetype": "text/x-python",
   "name": "python",
   "nbconvert_exporter": "python",
   "pygments_lexer": "ipython3",
   "version": "3.8.5"
  }
 },
 "nbformat": 4,
 "nbformat_minor": 4
}
